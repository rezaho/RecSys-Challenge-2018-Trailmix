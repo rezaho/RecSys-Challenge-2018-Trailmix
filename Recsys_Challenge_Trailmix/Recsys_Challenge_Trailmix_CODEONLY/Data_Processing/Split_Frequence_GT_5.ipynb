{
 "cells": [
  {
   "cell_type": "code",
   "execution_count": 1,
   "metadata": {
    "collapsed": true
   },
   "outputs": [],
   "source": [
    "import json\n",
    "import operator\n",
    "import numpy as np\n",
    "import random"
   ]
  },
  {
   "cell_type": "code",
   "execution_count": 2,
   "metadata": {
    "collapsed": true
   },
   "outputs": [],
   "source": [
    "PL_TRACKS = dict() \n",
    "with open('../RAW_DATA/PL_TRACKS_ALL.json', 'r') as f:\n",
    "    for line in f:\n",
    "        PL_TRACKS = dict(PL_TRACKS, **json.loads(line))"
   ]
  },
  {
   "cell_type": "code",
   "execution_count": 3,
   "metadata": {
    "collapsed": true
   },
   "outputs": [],
   "source": [
    "all_track = list()\n",
    "with open('../RAW_DATA/ALL_TRACK.txt', 'r') as f:\n",
    "    for line in f:\n",
    "        all_track.append(line.split(':')[2][:-1])"
   ]
  },
  {
   "cell_type": "code",
   "execution_count": 4,
   "metadata": {},
   "outputs": [
    {
     "data": {
      "text/plain": [
       "2262292"
      ]
     },
     "execution_count": 4,
     "metadata": {},
     "output_type": "execute_result"
    }
   ],
   "source": [
    "len(all_track)"
   ]
  },
  {
   "cell_type": "code",
   "execution_count": 5,
   "metadata": {
    "collapsed": true
   },
   "outputs": [],
   "source": [
    "all_track_dict = dict()\n",
    "for elem in all_track:\n",
    "    all_track_dict[elem] = 0\n",
    "    \n",
    "for pl in PL_TRACKS:\n",
    "    for track in PL_TRACKS[pl]:\n",
    "        all_track_dict[track] += 1"
   ]
  },
  {
   "cell_type": "code",
   "execution_count": 6,
   "metadata": {},
   "outputs": [
    {
     "data": {
      "text/plain": [
       "2262292"
      ]
     },
     "execution_count": 6,
     "metadata": {},
     "output_type": "execute_result"
    }
   ],
   "source": [
    "len(all_track_dict)"
   ]
  },
  {
   "cell_type": "code",
   "execution_count": 7,
   "metadata": {
    "collapsed": true
   },
   "outputs": [],
   "source": [
    "sub_track_dict = dict((k, v) for k, v in all_track_dict.items() if v > 5)"
   ]
  },
  {
   "cell_type": "code",
   "execution_count": 8,
   "metadata": {},
   "outputs": [
    {
     "data": {
      "text/plain": [
       "528645"
      ]
     },
     "execution_count": 8,
     "metadata": {},
     "output_type": "execute_result"
    }
   ],
   "source": [
    "len(sub_track_dict)"
   ]
  },
  {
   "cell_type": "code",
   "execution_count": 15,
   "metadata": {
    "collapsed": true
   },
   "outputs": [],
   "source": [
    "sub_track_dict_keys = set(sub_track_dict.keys())"
   ]
  },
  {
   "cell_type": "code",
   "execution_count": 16,
   "metadata": {},
   "outputs": [
    {
     "data": {
      "text/plain": [
       "528645"
      ]
     },
     "execution_count": 16,
     "metadata": {},
     "output_type": "execute_result"
    }
   ],
   "source": [
    "len(sub_track_dict_keys)"
   ]
  },
  {
   "cell_type": "code",
   "execution_count": 9,
   "metadata": {
    "collapsed": true
   },
   "outputs": [],
   "source": [
    "train_index = []\n",
    "with open('PLAYLIST_INDEX_TRAIN_80.txt', 'r') as f:\n",
    "    for line in f:\n",
    "        train_index.append(line[:-1])"
   ]
  },
  {
   "cell_type": "code",
   "execution_count": 10,
   "metadata": {
    "collapsed": true
   },
   "outputs": [],
   "source": [
    "test_index = []\n",
    "with open('PLAYLIST_INDEX_TEST_20.txt', 'r') as f:\n",
    "    for line in f:\n",
    "        test_index.append(line[:-1])"
   ]
  },
  {
   "cell_type": "code",
   "execution_count": 17,
   "metadata": {
    "collapsed": true
   },
   "outputs": [],
   "source": [
    "PL_TRACKS_5_TRAIN = {}\n",
    "for pl in train_index:\n",
    "    PL_TRACKS_5_TRAIN[pl] = list(set(PL_TRACKS[pl]).intersection(sub_track_dict_keys))"
   ]
  },
  {
   "cell_type": "code",
   "execution_count": 18,
   "metadata": {
    "collapsed": true
   },
   "outputs": [],
   "source": [
    "PL_TRACKS_5_TEST = {}\n",
    "for pl in test_index:\n",
    "    PL_TRACKS_5_TEST[pl] = list(set(PL_TRACKS[pl]).intersection(sub_track_dict_keys))"
   ]
  },
  {
   "cell_type": "code",
   "execution_count": 19,
   "metadata": {
    "collapsed": true
   },
   "outputs": [],
   "source": [
    "with open('PL_TRACKS_5_TRAIN.json', 'w') as fp:\n",
    "    json.dump(PL_TRACKS_5_TRAIN, fp)"
   ]
  },
  {
   "cell_type": "code",
   "execution_count": 20,
   "metadata": {
    "collapsed": true
   },
   "outputs": [],
   "source": [
    "with open('PL_TRACKS_5_TEST.json', 'w') as fp:\n",
    "    json.dump(PL_TRACKS_5_TEST, fp)"
   ]
  },
  {
   "cell_type": "code",
   "execution_count": null,
   "metadata": {
    "collapsed": true
   },
   "outputs": [],
   "source": []
  }
 ],
 "metadata": {
  "kernelspec": {
   "display_name": "Python 2",
   "language": "python",
   "name": "python2"
  },
  "language_info": {
   "codemirror_mode": {
    "name": "ipython",
    "version": 2
   },
   "file_extension": ".py",
   "mimetype": "text/x-python",
   "name": "python",
   "nbconvert_exporter": "python",
   "pygments_lexer": "ipython2",
   "version": "2.7.12"
  }
 },
 "nbformat": 4,
 "nbformat_minor": 2
}

{
 "cells": [
  {
   "cell_type": "code",
   "execution_count": 1,
   "metadata": {},
   "outputs": [],
   "source": [
    "import json\n",
    "from collections import Counter\n",
    "import operator\n",
    "import numpy as np"
   ]
  },
  {
   "cell_type": "code",
   "execution_count": 2,
   "metadata": {},
   "outputs": [],
   "source": [
    "pl_title = json.load(open('../MODEL_1_PL_NAME_NEW/PID_PROCESSED_TITLE_LIST_PROCESSED.json'))"
   ]
  },
  {
   "cell_type": "code",
   "execution_count": 3,
   "metadata": {},
   "outputs": [],
   "source": [
    "Train = json.load(open('../DATA_PROCESSING/PL_TRACKS_5_TRAIN.json'))"
   ]
  },
  {
   "cell_type": "code",
   "execution_count": 4,
   "metadata": {},
   "outputs": [
    {
     "data": {
      "text/plain": [
       "800000"
      ]
     },
     "execution_count": 4,
     "metadata": {},
     "output_type": "execute_result"
    }
   ],
   "source": [
    "len(Train)"
   ]
  },
  {
   "cell_type": "code",
   "execution_count": 5,
   "metadata": {},
   "outputs": [
    {
     "data": {
      "text/plain": [
       "[u'0FmhekFUKySairxOND7Nsp',\n",
       " u'21cGO6AxAJJDTV7Po9ywZa',\n",
       " u'4kicAOmyaRrrnqOwIUKdmV',\n",
       " u'34oWbFBfGEElvgO0a5c9V4',\n",
       " u'0FVNtH31j9ToHycO6I6Ari',\n",
       " u'7qBPrfMF2EGbzPNFoGkphA',\n",
       " u'2Zm24j5Tx8BKQcB7fxcd8t',\n",
       " u'3WN499bxFDEFMbpSk8BnOq',\n",
       " u'61ZCDsjTP9CdPjvbj7MkSx',\n",
       " u'2qOm7ukLyHUXWyR4ZWLwxA',\n",
       " u'6rF4PCqJq0p4MAWgecwfIl',\n",
       " u'1eMwrpmMDNSjGqiJ3L1nDm',\n",
       " u'599cYawsBthDvauPoXNr7U']"
      ]
     },
     "execution_count": 5,
     "metadata": {},
     "output_type": "execute_result"
    }
   ],
   "source": [
    "Train['967445']"
   ]
  },
  {
   "cell_type": "code",
   "execution_count": 6,
   "metadata": {},
   "outputs": [],
   "source": [
    "word_tracks_list = {}\n",
    "for pl in Train:\n",
    "    for word in pl_title[pl]:\n",
    "        try:\n",
    "            word_tracks_list[word] += Train[pl]\n",
    "        except:\n",
    "            word_tracks_list[word] = Train[pl]"
   ]
  },
  {
   "cell_type": "code",
   "execution_count": 7,
   "metadata": {},
   "outputs": [],
   "source": [
    "word_tracks_freq = {}\n",
    "for word in word_tracks_list:\n",
    "    word_tracks_freq[word] = Counter(word_tracks_list[word])"
   ]
  },
  {
   "cell_type": "code",
   "execution_count": null,
   "metadata": {},
   "outputs": [],
   "source": []
  },
  {
   "cell_type": "code",
   "execution_count": null,
   "metadata": {},
   "outputs": [],
   "source": []
  },
  {
   "cell_type": "markdown",
   "metadata": {},
   "source": [
    "# Train"
   ]
  },
  {
   "cell_type": "code",
   "execution_count": 8,
   "metadata": {},
   "outputs": [],
   "source": [
    "T0_Test_raw = json.load(open('../DATA_PROCESSING/PL_TRACKS_5_TEST_T0.json'))"
   ]
  },
  {
   "cell_type": "code",
   "execution_count": 9,
   "metadata": {},
   "outputs": [],
   "source": [
    "T0_Test = {}\n",
    "for pl in T0_Test_raw.keys()[:1000]:\n",
    "    T0_Test[pl] = T0_Test_raw[pl][:]"
   ]
  },
  {
   "cell_type": "code",
   "execution_count": 10,
   "metadata": {
    "scrolled": true
   },
   "outputs": [
    {
     "name": "stdout",
     "output_type": "stream",
     "text": [
      "0\n",
      "10\n",
      "20\n",
      "30\n",
      "40\n",
      "50\n",
      "60\n",
      "70\n",
      "80\n",
      "90\n",
      "100\n",
      "110\n",
      "120\n",
      "130\n",
      "140\n",
      "150\n",
      "160\n",
      "170\n",
      "180\n",
      "190\n",
      "200\n",
      "210\n",
      "220\n",
      "230\n",
      "240\n",
      "250\n",
      "260\n",
      "270\n",
      "280\n",
      "290\n",
      "300\n",
      "310\n",
      "320\n",
      "330\n",
      "340\n",
      "350\n",
      "360\n",
      "370\n",
      "380\n",
      "390\n",
      "400\n",
      "410\n",
      "420\n",
      "430\n",
      "440\n",
      "450\n",
      "460\n",
      "470\n",
      "480\n",
      "490\n",
      "500\n",
      "510\n",
      "520\n",
      "530\n",
      "540\n",
      "550\n",
      "560\n",
      "570\n",
      "580\n",
      "590\n",
      "600\n",
      "610\n",
      "620\n",
      "630\n",
      "640\n",
      "650\n",
      "660\n",
      "670\n",
      "680\n",
      "690\n",
      "700\n",
      "710\n",
      "720\n",
      "730\n",
      "740\n",
      "750\n",
      "760\n",
      "770\n",
      "780\n",
      "790\n",
      "800\n",
      "810\n",
      "820\n",
      "830\n",
      "840\n",
      "850\n",
      "860\n",
      "870\n",
      "880\n",
      "890\n",
      "900\n",
      "910\n",
      "920\n",
      "930\n",
      "940\n",
      "950\n",
      "960\n",
      "970\n",
      "980\n",
      "990\n"
     ]
    }
   ],
   "source": [
    "i = 0\n",
    "R = {}\n",
    "for pl in T0_Test:\n",
    "    if i % 10 == 0:\n",
    "        print i\n",
    "    i += 1\n",
    "\n",
    "    R[pl] = {}\n",
    "    for word in pl_title[pl]:\n",
    "        try:\n",
    "            R[pl] = dict(Counter(R[pl])+Counter(word_tracks_freq[word]))\n",
    "        except:\n",
    "            continue"
   ]
  },
  {
   "cell_type": "code",
   "execution_count": 11,
   "metadata": {},
   "outputs": [
    {
     "data": {
      "text/plain": [
       "1000"
      ]
     },
     "execution_count": 11,
     "metadata": {},
     "output_type": "execute_result"
    }
   ],
   "source": [
    "len(R)"
   ]
  },
  {
   "cell_type": "code",
   "execution_count": 12,
   "metadata": {},
   "outputs": [],
   "source": [
    "#delete empty\n",
    "R_noempty = {}\n",
    "for pl in R:\n",
    "    if R[pl] != {}:\n",
    "        R_noempty[pl] = R[pl]"
   ]
  },
  {
   "cell_type": "code",
   "execution_count": 13,
   "metadata": {},
   "outputs": [
    {
     "data": {
      "text/plain": [
       "991"
      ]
     },
     "execution_count": 13,
     "metadata": {},
     "output_type": "execute_result"
    }
   ],
   "source": [
    "len(R_noempty)"
   ]
  },
  {
   "cell_type": "code",
   "execution_count": 14,
   "metadata": {},
   "outputs": [],
   "source": [
    "R_sorted_raw = {}\n",
    "for pl in R_noempty:\n",
    "    R_sorted_raw[pl] = []\n",
    "    current = sorted(R_noempty[pl].items(), key=operator.itemgetter(1), reverse = True)\n",
    "    for track in current[:500]:\n",
    "        R_sorted_raw[pl].append(track[0])"
   ]
  },
  {
   "cell_type": "code",
   "execution_count": 15,
   "metadata": {},
   "outputs": [],
   "source": [
    "#delete recommanded pl not 500\n",
    "R_sorted = {}\n",
    "for pl in R_sorted_raw:\n",
    "    if len(R_sorted_raw[pl]) == 500:\n",
    "        R_sorted[pl] = R_sorted_raw[pl]"
   ]
  },
  {
   "cell_type": "code",
   "execution_count": 17,
   "metadata": {},
   "outputs": [
    {
     "data": {
      "text/plain": [
       "970"
      ]
     },
     "execution_count": 17,
     "metadata": {},
     "output_type": "execute_result"
    }
   ],
   "source": [
    "len(R_sorted)"
   ]
  },
  {
   "cell_type": "markdown",
   "metadata": {},
   "source": [
    "# Evaluation"
   ]
  },
  {
   "cell_type": "code",
   "execution_count": 18,
   "metadata": {},
   "outputs": [],
   "source": [
    "G_raw = json.load(open('../DATA_PROCESSING/PL_TRACKS_5_TEST.json'))"
   ]
  },
  {
   "cell_type": "code",
   "execution_count": 19,
   "metadata": {},
   "outputs": [],
   "source": [
    "G = {}\n",
    "for pl in R_sorted:\n",
    "    G[pl] = G_raw[pl]"
   ]
  },
  {
   "cell_type": "code",
   "execution_count": 20,
   "metadata": {},
   "outputs": [
    {
     "data": {
      "text/plain": [
       "970"
      ]
     },
     "execution_count": 20,
     "metadata": {},
     "output_type": "execute_result"
    }
   ],
   "source": [
    "len(G)"
   ]
  },
  {
   "cell_type": "code",
   "execution_count": 21,
   "metadata": {},
   "outputs": [],
   "source": [
    "def r_precision(G, R):\n",
    "    limit_R = R[:len(G)]\n",
    "    if len(G) != 0:\n",
    "        return len(list(set(G).intersection(set(limit_R)))) * 1.0 / len(G)\n",
    "    else:\n",
    "        return 0\n",
    "\n",
    "def ndcg(G, R):\n",
    "    r = [1 if i in set(G) else 0 for i in R]\n",
    "    r = np.asfarray(r)\n",
    "    dcg = r[0] + np.sum(r[1:] / np.log2(np.arange(2, r.size + 1)))\n",
    "    #k = len(set(G).intersection(set(R)))\n",
    "    k = len(G)\n",
    "    if k > 0:\n",
    "        idcg = 1 + np.sum(np.ones(k - 1) / np.log2(np.arange(2, k + 1)))\n",
    "        return dcg * 1.0 / idcg\n",
    "    else:\n",
    "        return 0\n",
    "\n",
    "def clicks(G, R):\n",
    "    n = 1\n",
    "    for i in R:\n",
    "        if i in set(G):\n",
    "            return (n - 1) * 1.0 / 10\n",
    "    return 51"
   ]
  },
  {
   "cell_type": "code",
   "execution_count": 22,
   "metadata": {},
   "outputs": [],
   "source": [
    "R_precision = {}\n",
    "NDCG = {}\n",
    "Clicks = {}\n",
    "\n",
    "i = 0\n",
    "for pl in R_sorted:\n",
    "    R_precision[pl] = r_precision(G[pl], R_sorted[pl])\n",
    "    NDCG[pl] = ndcg(G[pl], R_sorted[pl])\n",
    "    Clicks[pl] = clicks(G[pl], R_sorted[pl])"
   ]
  },
  {
   "cell_type": "code",
   "execution_count": 23,
   "metadata": {},
   "outputs": [
    {
     "name": "stdout",
     "output_type": "stream",
     "text": [
      "0.0855033634592\n",
      "0.18926981301141296\n",
      "5.83608247423\n"
     ]
    }
   ],
   "source": [
    "# 1000 data\n",
    "print sum(R_precision.values()) / len(R_precision)\n",
    "print sum(NDCG.values()) / len(NDCG)\n",
    "print sum(Clicks.values()) / len(Clicks)"
   ]
  },
  {
   "cell_type": "code",
   "execution_count": 48,
   "metadata": {},
   "outputs": [
    {
     "name": "stdout",
     "output_type": "stream",
     "text": [
      "0.0921195426697\n",
      "0.21510553411763678\n",
      "4.29473684211\n"
     ]
    }
   ],
   "source": [
    "# 100 data\n",
    "print sum(R_precision.values()) / len(R_precision)\n",
    "print sum(NDCG.values()) / len(NDCG)\n",
    "print sum(Clicks.values()) / len(Clicks)"
   ]
  },
  {
   "cell_type": "code",
   "execution_count": null,
   "metadata": {},
   "outputs": [],
   "source": []
  }
 ],
 "metadata": {
  "kernelspec": {
   "display_name": "Python 2",
   "language": "python",
   "name": "python2"
  },
  "language_info": {
   "codemirror_mode": {
    "name": "ipython",
    "version": 2
   },
   "file_extension": ".py",
   "mimetype": "text/x-python",
   "name": "python",
   "nbconvert_exporter": "python",
   "pygments_lexer": "ipython2",
   "version": "2.7.12"
  }
 },
 "nbformat": 4,
 "nbformat_minor": 2
}

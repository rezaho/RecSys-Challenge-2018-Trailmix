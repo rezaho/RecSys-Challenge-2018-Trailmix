{
 "cells": [
  {
   "cell_type": "code",
   "execution_count": 1,
   "metadata": {
    "collapsed": true
   },
   "outputs": [],
   "source": [
    "import json\n",
    "import numpy as np"
   ]
  },
  {
   "cell_type": "code",
   "execution_count": 2,
   "metadata": {
    "collapsed": true
   },
   "outputs": [],
   "source": [
    "TRAIN = json.load(open('../DATA_PROCESSING/PL_TRACKS_5_TRAIN.json'))\n",
    "TEST = json.load(open('../DATA_PROCESSING/PL_TRACKS_5_TEST.json'))"
   ]
  },
  {
   "cell_type": "code",
   "execution_count": 3,
   "metadata": {
    "collapsed": true
   },
   "outputs": [],
   "source": [
    "TEST_0 = {} #0. Predict tracks for a playlist given its title only\n",
    "TEST_1 = {} #1. Predict tracks for a playlist given its title and the first track\n",
    "TEST_2 = {} #2. Predict tracks for a playlist given its title and the first 5 tracks\n",
    "TEST_3 = {} #3. Predict tracks for a playlist given its first 5 tracks (no title)\n",
    "TEST_4 = {} #4. Predict tracks for a playlist given its title and the first 10 tracks\n",
    "TEST_5 = {} #5. Predict tracks for a playlist given its first ten tracks (no title)\n",
    "TEST_6 = {} #6. Predict tracks for a playlist given its title and the first 25 tracks\n",
    "TEST_7 = {} #7. Predict tracks for a playlist given its title and 25 random tracks\n",
    "TEST_8 = {} #8. Predict tracks for a playlist given its title and the first 100 tracks\n",
    "TEST_9 = {} #9. Predict tracks for a playlist given its title and 100 random tracks"
   ]
  },
  {
   "cell_type": "code",
   "execution_count": 4,
   "metadata": {
    "collapsed": true
   },
   "outputs": [],
   "source": [
    "TEST_0 = {k:[] for k in TEST}\n",
    "with open('PL_TRACKS_5_TEST_T0.json', 'w') as fp:\n",
    "    json.dump(TEST_0, fp)"
   ]
  },
  {
   "cell_type": "code",
   "execution_count": 5,
   "metadata": {
    "collapsed": true
   },
   "outputs": [],
   "source": [
    "for pl in TEST:\n",
    "    if TEST[pl] != []:\n",
    "        TEST_1[pl] = TEST[pl][:1]\n",
    "\n",
    "with open('PL_TRACKS_5_TEST_T1.json', 'w') as fp:\n",
    "    json.dump(TEST_1, fp)"
   ]
  },
  {
   "cell_type": "code",
   "execution_count": 6,
   "metadata": {
    "collapsed": true
   },
   "outputs": [],
   "source": [
    "# For T2\n",
    "for pl in TEST:\n",
    "    if len(TEST[pl]) >= 5:\n",
    "        TEST_2[pl] = TEST[pl][:5]\n",
    "\n",
    "with open('PL_TRACKS_5_TEST_T2.json', 'w') as fp:\n",
    "    json.dump(TEST_2, fp)"
   ]
  },
  {
   "cell_type": "code",
   "execution_count": 7,
   "metadata": {
    "collapsed": true
   },
   "outputs": [],
   "source": [
    "# For T3\n",
    "for pl in TEST:\n",
    "    if len(TEST[pl]) >= 5:\n",
    "        TEST_3[pl] = TEST[pl][:5]\n",
    "\n",
    "with open('PL_TRACKS_5_TEST_T3.json', 'w') as fp:\n",
    "    json.dump(TEST_3, fp)"
   ]
  },
  {
   "cell_type": "code",
   "execution_count": 8,
   "metadata": {
    "collapsed": true
   },
   "outputs": [],
   "source": [
    "# For T4\n",
    "for pl in TEST:\n",
    "    if len(TEST[pl]) >= 10:\n",
    "        TEST_4[pl] = TEST[pl][:10]\n",
    "\n",
    "with open('PL_TRACKS_5_TEST_T4.json', 'w') as fp:\n",
    "    json.dump(TEST_4, fp)"
   ]
  },
  {
   "cell_type": "code",
   "execution_count": 9,
   "metadata": {
    "collapsed": true
   },
   "outputs": [],
   "source": [
    "# For T5\n",
    "for pl in TEST:\n",
    "    if len(TEST[pl]) >= 10:\n",
    "        TEST_5[pl] = TEST[pl][:10]\n",
    "\n",
    "with open('PL_TRACKS_5_TEST_T5.json', 'w') as fp:\n",
    "    json.dump(TEST_5, fp)"
   ]
  },
  {
   "cell_type": "code",
   "execution_count": 10,
   "metadata": {
    "collapsed": true
   },
   "outputs": [],
   "source": [
    "# For T6\n",
    "for pl in TEST:\n",
    "    if len(TEST[pl]) >= 25:\n",
    "        TEST_6[pl] = TEST[pl][:25]\n",
    "\n",
    "with open('PL_TRACKS_5_TEST_T6.json', 'w') as fp:\n",
    "    json.dump(TEST_6, fp)"
   ]
  },
  {
   "cell_type": "code",
   "execution_count": 11,
   "metadata": {
    "collapsed": true
   },
   "outputs": [],
   "source": [
    "# For T7\n",
    "for pl in TEST:\n",
    "    if len(TEST[pl]) >= 25:\n",
    "        a = TEST[pl]\n",
    "        np.random.shuffle(a)\n",
    "        TEST_7[pl] = a[:25]\n",
    "\n",
    "with open('PL_TRACKS_5_TEST_T7.json', 'w') as fp:\n",
    "    json.dump(TEST_7, fp)"
   ]
  },
  {
   "cell_type": "code",
   "execution_count": 12,
   "metadata": {
    "collapsed": true
   },
   "outputs": [],
   "source": [
    "# For T8\n",
    "for pl in TEST:\n",
    "    if len(TEST[pl]) >= 100:\n",
    "        TEST_8[pl] = TEST[pl][:100]\n",
    "\n",
    "with open('PL_TRACKS_5_TEST_T8.json', 'w') as fp:\n",
    "    json.dump(TEST_8, fp)"
   ]
  },
  {
   "cell_type": "code",
   "execution_count": 13,
   "metadata": {
    "collapsed": true
   },
   "outputs": [],
   "source": [
    "# For T9\n",
    "for pl in TEST:\n",
    "    if len(TEST[pl]) >= 100:\n",
    "        a = TEST[pl]\n",
    "        np.random.shuffle(a)\n",
    "        TEST_9[pl] = a[:100]\n",
    "\n",
    "with open('PL_TRACKS_5_TEST_T9.json', 'w') as fp:\n",
    "    json.dump(TEST_9, fp)"
   ]
  },
  {
   "cell_type": "code",
   "execution_count": null,
   "metadata": {
    "collapsed": true
   },
   "outputs": [],
   "source": []
  }
 ],
 "metadata": {
  "kernelspec": {
   "display_name": "Python 2",
   "language": "python",
   "name": "python2"
  },
  "language_info": {
   "codemirror_mode": {
    "name": "ipython",
    "version": 2
   },
   "file_extension": ".py",
   "mimetype": "text/x-python",
   "name": "python",
   "nbconvert_exporter": "python",
   "pygments_lexer": "ipython2",
   "version": "2.7.14"
  }
 },
 "nbformat": 4,
 "nbformat_minor": 2
}

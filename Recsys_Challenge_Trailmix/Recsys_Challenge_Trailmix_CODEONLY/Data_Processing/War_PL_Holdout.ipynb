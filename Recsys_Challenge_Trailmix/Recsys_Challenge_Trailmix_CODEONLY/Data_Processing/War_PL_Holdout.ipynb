{
 "cells": [
  {
   "cell_type": "code",
   "execution_count": 1,
   "metadata": {
    "collapsed": true
   },
   "outputs": [],
   "source": [
    "import json"
   ]
  },
  {
   "cell_type": "code",
   "execution_count": 2,
   "metadata": {
    "collapsed": true
   },
   "outputs": [],
   "source": [
    "War_all = json.load( open('challenge.v1/challenge_set.json'))"
   ]
  },
  {
   "cell_type": "code",
   "execution_count": 20,
   "metadata": {},
   "outputs": [],
   "source": [
    "# For Tae\n",
    "# pid_name = {}\n",
    "# pid_songs = {}\n",
    "# for pl in War_all['playlists']:\n",
    "    \n",
    "#     if 'name' in pl:\n",
    "#         pid_name[pl['pid']] = pl['name']\n",
    "        \n",
    "#         pid_songs[pl['pid']] = []\n",
    "#         for song in pl['tracks']:\n",
    "#             pid_songs[pl['pid']].append(song['track_uri'].split(':')[2])"
   ]
  },
  {
   "cell_type": "code",
   "execution_count": 3,
   "metadata": {
    "collapsed": true
   },
   "outputs": [],
   "source": [
    "War_holdon = {}\n",
    "for pl in War_all['playlists']:\n",
    "    War_holdon[pl['pid']] = pl['num_holdouts']"
   ]
  },
  {
   "cell_type": "code",
   "execution_count": 4,
   "metadata": {},
   "outputs": [
    {
     "data": {
      "text/plain": [
       "10000"
      ]
     },
     "execution_count": 4,
     "metadata": {},
     "output_type": "execute_result"
    }
   ],
   "source": [
    "len(War_holdon)"
   ]
  },
  {
   "cell_type": "code",
   "execution_count": 5,
   "metadata": {
    "collapsed": true
   },
   "outputs": [],
   "source": [
    "with open('WAR_PL_TRACKS_READONLY_HOLDOUT.json', 'w') as f:\n",
    "    json.dump(War_holdon, f)"
   ]
  },
  {
   "cell_type": "code",
   "execution_count": null,
   "metadata": {
    "collapsed": true
   },
   "outputs": [],
   "source": []
  }
 ],
 "metadata": {
  "kernelspec": {
   "display_name": "Python 2",
   "language": "python",
   "name": "python2"
  },
  "language_info": {
   "codemirror_mode": {
    "name": "ipython",
    "version": 2
   },
   "file_extension": ".py",
   "mimetype": "text/x-python",
   "name": "python",
   "nbconvert_exporter": "python",
   "pygments_lexer": "ipython2",
   "version": "2.7.12"
  }
 },
 "nbformat": 4,
 "nbformat_minor": 2
}

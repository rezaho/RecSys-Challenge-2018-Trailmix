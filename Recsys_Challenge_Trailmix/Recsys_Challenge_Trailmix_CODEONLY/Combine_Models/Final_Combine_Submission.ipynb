{
 "cells": [
  {
   "cell_type": "code",
   "execution_count": 3,
   "metadata": {
    "collapsed": true
   },
   "outputs": [],
   "source": [
    "import json\n",
    "import operator\n",
    "import os"
   ]
  },
  {
   "cell_type": "code",
   "execution_count": 2,
   "metadata": {
    "collapsed": true
   },
   "outputs": [],
   "source": [
    "Xing = json.load(open('Pure_Xing_Final.json'))"
   ]
  },
  {
   "cell_type": "code",
   "execution_count": 9,
   "metadata": {},
   "outputs": [],
   "source": [
    "path = '/home/xing/xing/Recsys2018_NEW/WAR/0630_FINAL/Pure_QQ/'\n",
    "QQ_ALL = []\n",
    "for filename in os.listdir(path):\n",
    "    QQ_ALL.append(json.load(open(path + filename)))"
   ]
  },
  {
   "cell_type": "code",
   "execution_count": 10,
   "metadata": {
    "collapsed": true
   },
   "outputs": [],
   "source": [
    "W2V = json.load(open('Pure_W2V_Final.json'))"
   ]
  },
  {
   "cell_type": "code",
   "execution_count": 11,
   "metadata": {
    "collapsed": true
   },
   "outputs": [],
   "source": [
    "PLSIM_W2V = json.load(open('Pure_PLSIMW2V_Final.json'))"
   ]
  },
  {
   "cell_type": "markdown",
   "metadata": {},
   "source": [
    "## Challenge Seed"
   ]
  },
  {
   "cell_type": "code",
   "execution_count": 12,
   "metadata": {
    "collapsed": true
   },
   "outputs": [],
   "source": [
    "WAR_SEED = json.load(open('/home/xing/xing/Recsys2018_NEW/DATA_PROCESSING/WAR_PL_TRACKS_READONLY.json'))"
   ]
  },
  {
   "cell_type": "code",
   "execution_count": 13,
   "metadata": {
    "collapsed": true
   },
   "outputs": [],
   "source": [
    "WAR_HOLDOUT = json.load(open('/home/xing/xing/Recsys2018_NEW/DATA_PROCESSING/WAR_PL_TRACKS_READONLY_HOLDOUT.json'))"
   ]
  },
  {
   "cell_type": "markdown",
   "metadata": {},
   "source": [
    "## Combine Functions"
   ]
  },
  {
   "cell_type": "code",
   "execution_count": 14,
   "metadata": {
    "collapsed": true
   },
   "outputs": [],
   "source": [
    "def rank(new, current, sort_base):\n",
    "    layer = list(set(new) - set(current))\n",
    "    layer_index = {}\n",
    "    for elem in layer:\n",
    "        layer_index[elem] = sort_base[elem]\n",
    "        \n",
    "    layer_sorted = sorted(layer_index.items(), key=operator.itemgetter(1))\n",
    "    layer_final = [i[0] for i in layer_sorted]\n",
    "    return current + layer_final"
   ]
  },
  {
   "cell_type": "code",
   "execution_count": 15,
   "metadata": {
    "collapsed": true
   },
   "outputs": [],
   "source": [
    "def combine_method_T1_old(QQ, Xing, GT_len):\n",
    "    QQ_index = {}\n",
    "    for elem in QQ:\n",
    "        QQ_index[elem] = len(QQ_index)\n",
    "    \n",
    "    Xing_index = {}\n",
    "    for elem in Xing:\n",
    "        Xing_index[elem] = len(Xing_index)\n",
    "        \n",
    "        \n",
    "    Ax = set(Xing[:GT_len])\n",
    "    Bx = set(Xing[GT_len:])\n",
    "        \n",
    "    Aq = set(QQ[:GT_len])\n",
    "    Bq = set(QQ[GT_len:])\n",
    "    \n",
    "    # Layer 1\n",
    "    up_to_layer1 = rank(list(Ax & Aq), [], Xing_index)\n",
    "    \n",
    "    # Layer 2 part 1\n",
    "    up_to_layer2_1 = rank(list(Ax & Bq), up_to_layer1, Xing_index)\n",
    "\n",
    "    # Layer 2 part 2\n",
    "    up_to_layer2_2 = rank(list(Ax), up_to_layer2_1, Xing_index)\n",
    "    \n",
    "    # Layer 3 part 1\n",
    "    up_to_layer3_1 = rank(list(Bx & Aq), up_to_layer2_2, Xing_index)\n",
    "    \n",
    "    # Layer 3 part 2\n",
    "    up_to_layer3_2 = rank(list(Aq), up_to_layer3_1, QQ_index)\n",
    "    \n",
    "    # Layer 3 part 3\n",
    "    up_to_layer3_3 = rank(list(Bx & Bq), up_to_layer3_2, Xing_index)\n",
    "    \n",
    "    # Layer 4 part 1\n",
    "    up_to_layer4_1 = rank(list(Bx), up_to_layer3_3, Xing_index)\n",
    "    \n",
    "    # Layer 4 part 2\n",
    "    up_to_layer4_2 = rank(list(Bq), up_to_layer4_1, QQ_index)\n",
    "    \n",
    "    return up_to_layer4_2[:500]"
   ]
  },
  {
   "cell_type": "code",
   "execution_count": 27,
   "metadata": {},
   "outputs": [],
   "source": [
    "def combine_method_T1_new(QQ_ALL, Xing, GT_len):\n",
    "    all_tracks_qq = []\n",
    "    for each in QQ_ALL:\n",
    "        all_tracks_qq += each\n",
    "    all_tracks_qq = list(set(all_tracks_qq))\n",
    "    \n",
    "    QQ_ALL_index = []\n",
    "    for each in QQ_ALL:\n",
    "        current = {}\n",
    "        t = 0\n",
    "        for elem in each:\n",
    "            current[elem] = (501 - t)\n",
    "            t += 1\n",
    "        QQ_ALL_index.append(current)\n",
    "    \n",
    "    for elem in all_tracks_qq:\n",
    "        for each_qq_index in QQ_ALL_index:   \n",
    "            if elem not in each_qq_index:\n",
    "                each_qq_index[elem] = 0\n",
    "        \n",
    "    final_index = {}\n",
    "    for elem in all_tracks_qq:\n",
    "        final_index[elem] = 0\n",
    "        for each_qq_index in QQ_ALL_index: \n",
    "            final_index[elem] += each_qq_index[elem]\n",
    "        \n",
    "    layer_sorted = sorted(final_index.items(), key=operator.itemgetter(1), reverse = True)\n",
    "    layer_final = [i[0] for i in layer_sorted] \n",
    "    \n",
    "    final_qq = layer_final[:500]\n",
    "    \n",
    "    return combine_method_T1_old(final_qq, Xing, GT_len)"
   ]
  },
  {
   "cell_type": "code",
   "execution_count": 28,
   "metadata": {
    "collapsed": true
   },
   "outputs": [],
   "source": [
    "def combine_method_T2_T9(QQ_ALL, Xing, W2V, PLSIM_W2V, GT_len, parameters):  \n",
    "    \n",
    "    all_tracks_qq = []\n",
    "    for each in QQ_ALL:\n",
    "        all_tracks_qq += each\n",
    "    all_tracks_qq = list(set(all_tracks_qq))\n",
    "    \n",
    "    all_tracks = list(set(all_tracks_qq + Xing + W2V + PLSIM_W2V))\n",
    "    \n",
    "    ALL_index = []\n",
    "    i = 0\n",
    "    for each in QQ_ALL:\n",
    "        current = {}\n",
    "        t = 0\n",
    "        for elem in each:\n",
    "            current[elem] = (501 - t) * float(parameters[i])\n",
    "            t += 1\n",
    "        i += 1\n",
    "        ALL_index.append(current)\n",
    "        \n",
    "    Xing_index = {}\n",
    "    t = 0\n",
    "    for elem in Xing:\n",
    "        Xing_index[elem] = (501 - t) * float(parameters[-3])\n",
    "        t += 1   \n",
    "    ALL_index.append(Xing_index)\n",
    "        \n",
    "    W2V_index = {}\n",
    "    t = 0\n",
    "    for elem in W2V:\n",
    "        W2V_index[elem] = (501 - t) * float(parameters[-2])\n",
    "        t += 1\n",
    "    ALL_index.append(W2V_index)\n",
    "        \n",
    "    PLSIM_W2V_index = {}\n",
    "    t = 0\n",
    "    for elem in PLSIM_W2V:\n",
    "        PLSIM_W2V_index[elem] = (501 - t) * float(parameters[-1])\n",
    "        t += 1\n",
    "    ALL_index.append(PLSIM_W2V_index)\n",
    "            \n",
    "    for elem in all_tracks:\n",
    "        for each_index in ALL_index:\n",
    "            if elem not in each_index:\n",
    "                each_index[elem] = 0\n",
    "        \n",
    "    final_index = {}\n",
    "    for elem in all_tracks:\n",
    "        \n",
    "        final_index[elem] = 0\n",
    "        for each_index in ALL_index:\n",
    "            final_index[elem] += each_index[elem]\n",
    "            \n",
    "    layer_sorted = sorted(final_index.items(), key=operator.itemgetter(1), reverse = True)\n",
    "    layer_final = [i[0] for i in layer_sorted] \n",
    "    \n",
    "    return layer_final[:500]"
   ]
  },
  {
   "cell_type": "markdown",
   "metadata": {},
   "source": [
    "## Combine Now"
   ]
  },
  {
   "cell_type": "code",
   "execution_count": 29,
   "metadata": {
    "collapsed": true
   },
   "outputs": [],
   "source": [
    "Parameters = [0.1, 0.1, 0.1, 0.1, 0.1, 0.1, 0.1, 0.1, 0.1, 0.1, \\\n",
    "              0.1, 0.1, 0.1, 0.1, 0.1, 0.1, 0.1, 0.1, 0.1, 0.1, \\\n",
    "              0.1, 0.1, 0.1, 0.1, 0.1, 2.75, 0.0, 0.0] # new T1 "
   ]
  },
  {
   "cell_type": "markdown",
   "metadata": {},
   "source": [
    "## Trailmix Main"
   ]
  },
  {
   "cell_type": "code",
   "execution_count": 30,
   "metadata": {},
   "outputs": [],
   "source": [
    "R_combined = {}\n",
    "for pl in QQ_ALL[0]:\n",
    "    current_qq_all = []\n",
    "    for each_qq in QQ_ALL:\n",
    "        current_qq_all.append(each_qq[pl])\n",
    "    if len(WAR_SEED[pl]) == 1:\n",
    "        R_combined[pl] = combine_method_T1_new(current_qq_all, Xing[pl],WAR_HOLDOUT[pl])\n",
    "    else:\n",
    "        R_combined[pl] = combine_method_T2_T9(current_qq_all, Xing[pl], W2V[pl], PLSIM_W2V[pl], WAR_HOLDOUT[pl], Parameters)\n",
    "\n",
    "T0 = json.load(open('T0/WAR_T0_MODEL1_MOST_POPULAR_BY_WORD.json')) # old T0\n",
    "\n",
    "R_final = dict(R_combined.items() + T0.items())"
   ]
  },
  {
   "cell_type": "code",
   "execution_count": 31,
   "metadata": {
    "collapsed": true
   },
   "outputs": [],
   "source": [
    "with open('Submission/Submission_0630_Trailmix_main_fake.csv', 'w') as f:\n",
    "    f.write('team_info,')\n",
    "    f.write('main,')\n",
    "    f.write('Trailmix,')\n",
    "    f.write('zhaoxing623@email.tamu.edu\\n')\n",
    "    \n",
    "    for pid in R_final:\n",
    "        f.write(pid)\n",
    "        for track in R_final[pid]:\n",
    "            f.write(',' + 'spotify:track:' + track)\n",
    "        f.write('\\n')"
   ]
  },
  {
   "cell_type": "markdown",
   "metadata": {},
   "source": [
    "## Trailmix Creative"
   ]
  },
  {
   "cell_type": "code",
   "execution_count": 32,
   "metadata": {
    "collapsed": true
   },
   "outputs": [],
   "source": [
    "R_combined = {}\n",
    "for pl in QQ_ALL[0]:\n",
    "    current_qq_all = []\n",
    "    for each_qq in QQ_ALL:\n",
    "        current_qq_all.append(each_qq[pl])\n",
    "    if len(WAR_SEED[pl]) == 1:\n",
    "        R_combined[pl] = combine_method_T1_new(current_qq_all, Xing[pl],WAR_HOLDOUT[pl])\n",
    "    else:\n",
    "        R_combined[pl] = combine_method_T2_T9(current_qq_all, Xing[pl], W2V[pl], PLSIM_W2V[pl], WAR_HOLDOUT[pl], Parameters)\n",
    "\n",
    "T0 = json.load(open('T0/WAR_T0_MODEL1_MOST_POPULAR_BY_WORD_0628XY.json')) # new T0\n",
    "\n",
    "R_final = dict(R_combined.items() + T0.items())"
   ]
  },
  {
   "cell_type": "code",
   "execution_count": 33,
   "metadata": {
    "collapsed": true
   },
   "outputs": [],
   "source": [
    "with open('Submission/Submission_0630_Trailmix_creative_fake.csv', 'w') as f:\n",
    "    f.write('team_info,')\n",
    "    f.write('creative,')\n",
    "    f.write('Trailmix,')\n",
    "    f.write('zhaoxing623@email.tamu.edu\\n')\n",
    "    \n",
    "    for pid in R_final:\n",
    "        f.write(pid)\n",
    "        for track in R_final[pid]:\n",
    "            f.write(',' + 'spotify:track:' + track)\n",
    "        f.write('\\n')"
   ]
  },
  {
   "cell_type": "code",
   "execution_count": null,
   "metadata": {
    "collapsed": true
   },
   "outputs": [],
   "source": []
  }
 ],
 "metadata": {
  "kernelspec": {
   "display_name": "Python 2",
   "language": "python",
   "name": "python2"
  },
  "language_info": {
   "codemirror_mode": {
    "name": "ipython",
    "version": 2
   },
   "file_extension": ".py",
   "mimetype": "text/x-python",
   "name": "python",
   "nbconvert_exporter": "python",
   "pygments_lexer": "ipython2",
   "version": "2.7.12"
  }
 },
 "nbformat": 4,
 "nbformat_minor": 2
}

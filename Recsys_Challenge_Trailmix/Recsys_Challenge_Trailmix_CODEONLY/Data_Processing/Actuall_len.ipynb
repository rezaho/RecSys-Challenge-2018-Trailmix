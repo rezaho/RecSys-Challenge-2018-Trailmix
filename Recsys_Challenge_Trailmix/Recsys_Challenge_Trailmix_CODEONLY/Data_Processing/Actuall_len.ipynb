{
 "cells": [
  {
   "cell_type": "code",
   "execution_count": 7,
   "metadata": {
    "collapsed": true
   },
   "outputs": [],
   "source": [
    "import json"
   ]
  },
  {
   "cell_type": "code",
   "execution_count": 9,
   "metadata": {},
   "outputs": [],
   "source": [
    "war = json.load(open('challenge.v1/challenge_set.json'))"
   ]
  },
  {
   "cell_type": "code",
   "execution_count": 14,
   "metadata": {},
   "outputs": [],
   "source": [
    "pl_num_holdouts = {}\n",
    "pl_num_tracks = {}\n",
    "for pl in war['playlists']:\n",
    "    pl_num_holdouts[pl['pid']] = pl['num_holdouts']\n",
    "    pl_num_tracks[pl['pid']] = pl['num_tracks']"
   ]
  },
  {
   "cell_type": "code",
   "execution_count": 18,
   "metadata": {},
   "outputs": [],
   "source": [
    "with open('PL_NUM_HOLDOUTS_READONLY.json', 'w') as f:\n",
    "    json.dump(pl_num_holdouts, f)"
   ]
  },
  {
   "cell_type": "code",
   "execution_count": 19,
   "metadata": {
    "collapsed": true
   },
   "outputs": [],
   "source": [
    "with open('PL_NUM_TRACKS_READONLY.json', 'w') as f:\n",
    "    json.dump(pl_num_tracks, f)"
   ]
  },
  {
   "cell_type": "code",
   "execution_count": null,
   "metadata": {
    "collapsed": true
   },
   "outputs": [],
   "source": []
  }
 ],
 "metadata": {
  "kernelspec": {
   "display_name": "Python 2",
   "language": "python",
   "name": "python2"
  },
  "language_info": {
   "codemirror_mode": {
    "name": "ipython",
    "version": 2
   },
   "file_extension": ".py",
   "mimetype": "text/x-python",
   "name": "python",
   "nbconvert_exporter": "python",
   "pygments_lexer": "ipython2",
   "version": "2.7.12"
  }
 },
 "nbformat": 4,
 "nbformat_minor": 2
}

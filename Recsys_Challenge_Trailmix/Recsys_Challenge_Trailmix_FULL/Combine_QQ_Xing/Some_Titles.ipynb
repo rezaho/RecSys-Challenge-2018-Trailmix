{
 "cells": [
  {
   "cell_type": "code",
   "execution_count": 9,
   "metadata": {
    "collapsed": true
   },
   "outputs": [],
   "source": [
    "import json\n",
    "from collections import Counter\n",
    "import operator"
   ]
  },
  {
   "cell_type": "code",
   "execution_count": 2,
   "metadata": {
    "collapsed": true
   },
   "outputs": [],
   "source": [
    "train_pl_tracks = json.load(open('../DATA_PROCESSING/PL_TRACKS_5_TRAIN.json'))"
   ]
  },
  {
   "cell_type": "code",
   "execution_count": 3,
   "metadata": {
    "collapsed": true
   },
   "outputs": [],
   "source": [
    "pl_title = json.load(open('../MODEL_1_PL_NAME_NEW/PID_PROCESSED_TITLE_LIST_PROCESSED.json'))"
   ]
  },
  {
   "cell_type": "code",
   "execution_count": 23,
   "metadata": {
    "collapsed": true
   },
   "outputs": [],
   "source": [
    "disney_tracks = []\n",
    "for pl in train_pl_tracks:\n",
    "    if 'disney' in pl_title[pl]:\n",
    "        disney_tracks += train_pl_tracks[pl]\n",
    "        \n",
    "disney_1000 = [i[0] for i in sorted(Counter(disney_tracks).items(), key=operator.itemgetter(1), reverse=True)]"
   ]
  },
  {
   "cell_type": "code",
   "execution_count": 25,
   "metadata": {},
   "outputs": [],
   "source": [
    "christma_tracks = []\n",
    "for pl in train_pl_tracks:\n",
    "    if 'christma' in pl_title[pl]:\n",
    "        christma_tracks += train_pl_tracks[pl]\n",
    "\n",
    "christma_1000 = [i[0] for i in sorted(Counter(christma_tracks).items(), key=operator.itemgetter(1), reverse=True)]"
   ]
  },
  {
   "cell_type": "code",
   "execution_count": 28,
   "metadata": {
    "collapsed": true
   },
   "outputs": [],
   "source": [
    "christian_tracks = []\n",
    "for pl in train_pl_tracks:\n",
    "    if 'christian' in pl_title[pl]:\n",
    "        christian_tracks += train_pl_tracks[pl]\n",
    "\n",
    "christian_1000 = [i[0] for i in sorted(Counter(christian_tracks).items(), key=operator.itemgetter(1), reverse=True)]"
   ]
  },
  {
   "cell_type": "code",
   "execution_count": 32,
   "metadata": {},
   "outputs": [],
   "source": [
    "selected_title = {}\n",
    "selected_title['disney'] = disney_1000\n",
    "selected_title['christma'] = christma_1000\n",
    "selected_title['christian'] = christian_1000"
   ]
  },
  {
   "cell_type": "code",
   "execution_count": 33,
   "metadata": {
    "collapsed": true
   },
   "outputs": [],
   "source": [
    "with open('Selected_Title_Top_1000.json', 'w') as f:\n",
    "    json.dump(selected_title, f)"
   ]
  },
  {
   "cell_type": "code",
   "execution_count": null,
   "metadata": {
    "collapsed": true
   },
   "outputs": [],
   "source": []
  }
 ],
 "metadata": {
  "kernelspec": {
   "display_name": "Python 2",
   "language": "python",
   "name": "python2"
  },
  "language_info": {
   "codemirror_mode": {
    "name": "ipython",
    "version": 2
   },
   "file_extension": ".py",
   "mimetype": "text/x-python",
   "name": "python",
   "nbconvert_exporter": "python",
   "pygments_lexer": "ipython2",
   "version": "2.7.12"
  }
 },
 "nbformat": 4,
 "nbformat_minor": 2
}

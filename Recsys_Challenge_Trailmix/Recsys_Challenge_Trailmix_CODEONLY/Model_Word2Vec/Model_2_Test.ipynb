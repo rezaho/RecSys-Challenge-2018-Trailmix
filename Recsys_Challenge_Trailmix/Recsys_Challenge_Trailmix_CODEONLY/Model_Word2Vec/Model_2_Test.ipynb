{
 "cells": [
  {
   "cell_type": "code",
   "execution_count": 10,
   "metadata": {
    "collapsed": true
   },
   "outputs": [],
   "source": [
    "import pandas\n",
    "from sklearn import model_selection\n",
    "from sklearn.linear_model import LogisticRegression\n",
    "import pickle\n",
    "import codecs\n",
    "import json\n",
    "import gensim\n",
    "import numpy as np\n",
    "import math\n",
    "import random\n",
    "import numpy\n",
    "import operator\n",
    "import scipy\n",
    "import Queue\n",
    "from heapq import nlargest"
   ]
  },
  {
   "cell_type": "code",
   "execution_count": 23,
   "metadata": {
    "collapsed": true
   },
   "outputs": [],
   "source": [
    "def r_precision(G, R):\n",
    "    limit_R = R[:len(G)]\n",
    "    if len(G) != 0:\n",
    "        return len(list(set(G).intersection(set(limit_R)))) * 1.0 / len(G)\n",
    "    else:\n",
    "        return 0\n",
    "\n",
    "def ndcg(G, R):\n",
    "    r = [1 if i in set(G).intersection(set(R)) else 0 for i in R]\n",
    "    r = np.asfarray(r)\n",
    "    dcg = r[0] + np.sum(r[1:] / np.log2(np.arange(2, r.size + 1)))\n",
    "    #k = len(set(G).intersection(set(R)))\n",
    "    k = len(G)\n",
    "    if k > 0:\n",
    "        idcg = 1 + np.sum(np.ones(k - 1) / np.log2(np.arange(2, k + 1)))\n",
    "        return dcg * 1.0 / idcg\n",
    "    else:\n",
    "        return 0\n",
    "\n",
    "def clicks(G, R):\n",
    "    r = [1 if i in set(G).intersection(set(R)) else 0 for i in R]\n",
    "    if sum(r) == 0:\n",
    "        return 51\n",
    "    else:\n",
    "        return (r.index(1) - 1) * 1.0 / 10 \n",
    "\n",
    "# Calculation Tools\n",
    "# def find_nearest_k(distance, start, end, k):\n",
    "#     pivot_index = random.randint(start, end)\n",
    "#     original_start = start\n",
    "#     original_end = end\n",
    "#     while start <= end:\n",
    "#         while start <= end and distance[start][1] <= distance[pivot_index][1]:\n",
    "#             start += 1\n",
    "#         while start <= end and distance[end][1] > distance[pivot_index][1]:\n",
    "#             end -= 1\n",
    "#         if start <= end:\n",
    "#             distance[start], distance[end] = distance[end], distance[start]\n",
    "#         else:\n",
    "#             break\n",
    "#     if start - original_start == k:\n",
    "#         return distance[:start]\n",
    "#     elif start - original_start > k:\n",
    "#         return find_nearest_k(distance, original_start, start - 1, k)\n",
    "#     else:\n",
    "#         return find_nearest_k(distance, start, original_end, k - (start-original_start))\n",
    "\n",
    "# def calculate_distance(pid, points):\n",
    "#     global PL_Word2Vec_TEST\n",
    "#     global TEST\n",
    "#     global track_vec_touple\n",
    "    \n",
    "#     result = []\n",
    "#     for track in track_vec_touple[:80]:\n",
    "#         #if point[0] not in PL_TRACKS_TRAIN[pid]:\n",
    "#         #print track\n",
    "#         result.append((track[0], scipy.spatial.distance.cosine(np.array(PL_Word2Vec_TEST[pid]),np.array(track[1]))))\n",
    "#     return result\n",
    "\n",
    "# def find_nearest_k0(distances, k):\n",
    "#     # Write your code here\n",
    "#     switch_distances = dict((k, v) for v, k in distances.items())\n",
    "#     res = []\n",
    "#     if not distances or k == 0:\n",
    "#         return res\n",
    "    \n",
    "#     MaxHeap = Queue.PriorityQueue()\n",
    "    \n",
    "#     # claculate distance\n",
    "    \n",
    "#     # end calculate distance\n",
    "\n",
    "    \n",
    "#     for key in distances:\n",
    "#         MaxHeap.put(-distances[key])\n",
    "\n",
    "#     for i in range(k):\n",
    "#         res.append(switch_distances[-MaxHeap.get()])\n",
    "\n",
    "#     return res\n",
    "\n",
    "# def find_nearest_k1(pid, k):\n",
    "#     global PL_Word2Vec_TEST\n",
    "#     global TEST\n",
    "    \n",
    "#     res = []\n",
    "#     if k == 0 or k > len(model.wv.vocab):\n",
    "#         return res\n",
    "    \n",
    "#     MaxHeap = Queue.PriorityQueue()\n",
    "     \n",
    "#     # claculate distance\n",
    "#     sim = {}\n",
    "#     for track in model.wv.vocab.keys():\n",
    "#         sim[track] = 1 - scipy.spatial.distance.cosine(np.array(PL_Word2Vec_TEST[pid]),np.array(model.wv[track]))\n",
    "#         MaxHeap.put(-sim[track])\n",
    "\n",
    "#     switch_sim = dict((k, v) for v, k in sim.items())    \n",
    "#     for i in range(k):\n",
    "#         res.append(switch_sim[-MaxHeap.get()])\n",
    "\n",
    "#     return res\n",
    "\n",
    "def find_nearest_k(pid, k):\n",
    "    global PL_Word2Vec_TEST\n",
    "    global TEST\n",
    "    \n",
    "    res = []\n",
    "    sim = {}\n",
    "    for track in model.wv.vocab.keys():\n",
    "        sim[track] = 1 - scipy.spatial.distance.cosine(np.array(PL_Word2Vec_TEST[pid]),np.array(model.wv[track]))\n",
    "\n",
    "    switch_sim = dict((k, v) for v, k in sim.items()) \n",
    "    sorted_sim = sorted(switch_sim.keys(), reverse = True)\n",
    "    for i in range(k):\n",
    "        res.append(switch_sim[sorted_sim[i]])\n",
    "\n",
    "    return res"
   ]
  },
  {
   "cell_type": "code",
   "execution_count": null,
   "metadata": {
    "collapsed": true
   },
   "outputs": [],
   "source": []
  },
  {
   "cell_type": "code",
   "execution_count": 3,
   "metadata": {
    "collapsed": true
   },
   "outputs": [],
   "source": [
    "# Load Model\n",
    "model = gensim.models.Word2Vec.load('../../Recsys2018/Model_0_JL/song2vec/song2vec_4_0')"
   ]
  },
  {
   "cell_type": "code",
   "execution_count": 24,
   "metadata": {
    "collapsed": true
   },
   "outputs": [],
   "source": [
    "TEST_GROUND_TRUTH_RAW = json.load(open('../DATA_PROCESSING/PL_TRACKS_5_TEST.json'))\n",
    "TEST_GROUND_TRUTH = {}\n",
    "for pl in TEST:\n",
    "    TEST_GROUND_TRUTH[pl] = TEST_GROUND_TRUTH_RAW[pl]"
   ]
  },
  {
   "cell_type": "code",
   "execution_count": 4,
   "metadata": {
    "collapsed": true
   },
   "outputs": [],
   "source": [
    "# Calculate the average vector\n",
    "track_sum_vec = np.zeros(100, dtype = float)\n",
    "for track in model.wv.vocab:\n",
    "    track_sum_vec += model.wv[track]\n",
    "\n",
    "track_average_vec = track_sum_vec / len(model.wv.vocab)"
   ]
  },
  {
   "cell_type": "code",
   "execution_count": 28,
   "metadata": {},
   "outputs": [
    {
     "data": {
      "text/plain": [
       "numpy.ndarray"
      ]
     },
     "execution_count": 28,
     "metadata": {},
     "output_type": "execute_result"
    }
   ],
   "source": [
    "type(track_average_vec)"
   ]
  },
  {
   "cell_type": "code",
   "execution_count": 29,
   "metadata": {
    "collapsed": true
   },
   "outputs": [],
   "source": [
    "all_test_tracks = model.wv.vocab.keys()"
   ]
  },
  {
   "cell_type": "code",
   "execution_count": 5,
   "metadata": {
    "collapsed": true
   },
   "outputs": [],
   "source": [
    "task = 2\n",
    "TEST = json.load(open('../DATA_PROCESSING/PL_TRACKS_5_TEST_T' + str(task) + '.json'))\n"
   ]
  },
  {
   "cell_type": "code",
   "execution_count": 6,
   "metadata": {
    "collapsed": true
   },
   "outputs": [],
   "source": [
    "PL_Word2Vec_TEST = {}\n",
    "for pl in TEST:\n",
    "    current = np.zeros(100)\n",
    "    length = 0\n",
    "    for track in TEST[pl]:\n",
    "        if track in model.wv:\n",
    "            current += model.wv[track]\n",
    "        else:\n",
    "            current += track_average_vec\n",
    "        length += 1\n",
    "    PL_Word2Vec_TEST[pl] = list(current / length)"
   ]
  },
  {
   "cell_type": "code",
   "execution_count": 26,
   "metadata": {},
   "outputs": [
    {
     "name": "stdout",
     "output_type": "stream",
     "text": [
      "Evaluating...\n",
      "R_Precision:\n",
      "\tmean: 0.3055555555555556 std: 0.19444444444444445\n",
      "NDCG:\n",
      "\tmean: 0.4711674338523457 std: 0.280851563389977\n",
      "Clicks:\n",
      "\tmean: 0.09999999999999999 std: 0.2\n",
      "========================================\n",
      "\n"
     ]
    }
   ],
   "source": [
    "R = {}\n",
    "G = {}\n",
    "for pl in TEST_GROUND_TRUTH:\n",
    "    G[pl] = list(set(TEST_GROUND_TRUTH[pl]).difference(set(TEST[pl])))\n",
    "    \n",
    "for pl in TEST.keys()[:2]:\n",
    "    R[pl] = find_nearest_k(pl, 500)\n",
    "    \n",
    "print 'Evaluating...'\n",
    "print 'R_Precision:'\n",
    "\n",
    "r_pre_result = []\n",
    "for pl in TEST.keys()[:2]:\n",
    "    r_pre_result.append(r_precision(G[pl], R[pl]))\n",
    "r_pre_result = np.array(r_pre_result)\n",
    "\n",
    "print '\\tmean:', r_pre_result.mean(), 'std:', r_pre_result.std()\n",
    "\n",
    "# with open('Model_0_Performance.txt', 'a') as f:\n",
    "#     f.write('TASK_' + str(task) +' R_Precision_Mean '+str(r_pre_result.mean())+' R_Precision_Std '+ str(r_pre_result.std()) + '\\n')\n",
    "\n",
    "\n",
    "print 'NDCG:'\n",
    "ndcg_result = []\n",
    "for pl in TEST.keys()[:2]:\n",
    "    ndcg_result.append(ndcg(G[pl], R[pl]))\n",
    "ndcg_result = np.array(ndcg_result)\n",
    "print '\\tmean:', ndcg_result.mean(), 'std:', ndcg_result.std()\n",
    "\n",
    "# with open('Model_0_Performance.txt', 'a') as f:\n",
    "#     f.write('TASK_' + str(task) +' NDCG_Mean '+str(ndcg_result.mean())+' NDCG_Std '+ str(ndcg_result.std()) + '\\n')\n",
    "\n",
    "\n",
    "print 'Clicks:'\n",
    "clicks_result = []\n",
    "for pl in TEST.keys()[:2]:\n",
    "    clicks_result.append(clicks(G[pl], R[pl]))\n",
    "clicks_result = np.array(clicks_result)\n",
    "print '\\tmean:', clicks_result.mean(), 'std:', clicks_result.std()\n",
    "\n",
    "# with open('Model_0_Performance.txt', 'a') as f:\n",
    "#     f.write('TASK_' + str(task) +' Clicks_Mean '+str(clicks_result.mean())+' Clicks_Std '+ str(clicks_result.std()) + '\\n')\n",
    "\n",
    "print '========================================\\n'"
   ]
  },
  {
   "cell_type": "code",
   "execution_count": null,
   "metadata": {
    "collapsed": true
   },
   "outputs": [],
   "source": []
  },
  {
   "cell_type": "code",
   "execution_count": null,
   "metadata": {
    "collapsed": true
   },
   "outputs": [],
   "source": []
  },
  {
   "cell_type": "code",
   "execution_count": null,
   "metadata": {
    "collapsed": true
   },
   "outputs": [],
   "source": []
  }
 ],
 "metadata": {
  "kernelspec": {
   "display_name": "Python 2",
   "language": "python",
   "name": "python2"
  },
  "language_info": {
   "codemirror_mode": {
    "name": "ipython",
    "version": 2
   },
   "file_extension": ".py",
   "mimetype": "text/x-python",
   "name": "python",
   "nbconvert_exporter": "python",
   "pygments_lexer": "ipython2",
   "version": "2.7.14"
  }
 },
 "nbformat": 4,
 "nbformat_minor": 2
}

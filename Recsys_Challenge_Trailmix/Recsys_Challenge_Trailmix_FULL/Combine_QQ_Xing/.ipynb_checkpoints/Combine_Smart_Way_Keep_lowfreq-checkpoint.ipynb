{
 "cells": [
  {
   "cell_type": "code",
   "execution_count": 5,
   "metadata": {
    "collapsed": true
   },
   "outputs": [],
   "source": [
    "import json\n",
    "import numpy as np\n",
    "import operator\n",
    "import math"
   ]
  },
  {
   "cell_type": "code",
   "execution_count": 2,
   "metadata": {
    "collapsed": true
   },
   "outputs": [],
   "source": [
    "def r_precision(G, R):\n",
    "    limit_R = R[:len(G)]\n",
    "    if len(G) != 0:\n",
    "        return len(list(set(G).intersection(set(limit_R)))) * 1.0 / len(G)\n",
    "    else:\n",
    "        return 0\n",
    "\n",
    "def ndcg(G, R):\n",
    "    r = [1 if i in set(G) else 0 for i in R]\n",
    "    r = np.asfarray(r)\n",
    "    dcg = r[0] + np.sum(r[1:] / np.log2(np.arange(2, r.size + 1)))\n",
    "    #k = len(set(G).intersection(set(R)))\n",
    "    k = len(G)\n",
    "    if k > 0:\n",
    "        idcg = 1 + np.sum(np.ones(k - 1) / np.log2(np.arange(2, k + 1)))\n",
    "        return dcg * 1.0 / idcg\n",
    "    else:\n",
    "        return 0\n",
    "\n",
    "def clicks(G, R):\n",
    "    n = 1\n",
    "    for i in R:\n",
    "        if i in set(G):\n",
    "            return ((n - 1) / 10) * 1.0\n",
    "        n += 1\n",
    "    return 51"
   ]
  },
  {
   "cell_type": "code",
   "execution_count": 3,
   "metadata": {
    "collapsed": true
   },
   "outputs": [],
   "source": [
    "GT = json.load(open('../DATA_PROCESSING/PL_TRACKS_ALL.json'))\n",
    "# GT = json.load(open('../DATA_PROCESSING/PL_TRACKS_5_TEST.json'))\n",
    "track_index = json.load(open('../DATA_PROCESSING/ALL_INDEX_READONLY/TRACK_INDEX_READONLY.json'))\n",
    "track_index_reversed = {k:v for (v, k) in track_index.items()}"
   ]
  },
  {
   "cell_type": "code",
   "execution_count": 6,
   "metadata": {},
   "outputs": [],
   "source": [
    "Most_100_up = np.load('song_name_100_up.npy')"
   ]
  },
  {
   "cell_type": "code",
   "execution_count": 33,
   "metadata": {
    "collapsed": true
   },
   "outputs": [],
   "source": [
    "Most_100_up_dict = {}\n",
    "for t in Most_100_up:\n",
    "    Most_100_up_dict[t] = []"
   ]
  },
  {
   "cell_type": "code",
   "execution_count": 203,
   "metadata": {
    "collapsed": true
   },
   "outputs": [],
   "source": [
    "Task = str(1)"
   ]
  },
  {
   "cell_type": "code",
   "execution_count": 204,
   "metadata": {
    "collapsed": true
   },
   "outputs": [],
   "source": [
    "if Task == '1':\n",
    "    bar = 1\n",
    "elif Task == '2':\n",
    "    bar = 5\n",
    "elif Task == '5':\n",
    "    bar = 10\n",
    "elif Task == '6':\n",
    "    bar = 25\n",
    "elif Task == '7':\n",
    "    bar = 25\n",
    "elif Task == '9':\n",
    "    bar = 100"
   ]
  },
  {
   "cell_type": "markdown",
   "metadata": {},
   "source": [
    "## For different Task (change from here)"
   ]
  },
  {
   "cell_type": "code",
   "execution_count": 205,
   "metadata": {
    "collapsed": true
   },
   "outputs": [],
   "source": [
    "Xing_Raw = json.load(open('../MODEL_5_Counter_Artist_Album/Pure_Xing/Pure_Xing_T' + Task + '.json'))\n",
    "Xing = {}\n",
    "for pl in Xing_Raw:\n",
    "    Xing[pl] = []\n",
    "    for t in Xing_Raw[pl]:\n",
    "        Xing[pl].append(track_index_reversed[t])"
   ]
  },
  {
   "cell_type": "code",
   "execution_count": 206,
   "metadata": {
    "collapsed": true
   },
   "outputs": [],
   "source": [
    "QQ = json.load(open('../MODEL_5_Counter_Artist_Album/Pure_QQ/T' + Task + '_100_500_50.json'))"
   ]
  },
  {
   "cell_type": "markdown",
   "metadata": {},
   "source": [
    "## Combine Method 1 (Used in current submission)"
   ]
  },
  {
   "cell_type": "code",
   "execution_count": 207,
   "metadata": {
    "collapsed": true
   },
   "outputs": [],
   "source": [
    "def combine_method_1(QQ_dict, Xing_dict):\n",
    "    R_combined = {}\n",
    "    for pl in Xing_dict:\n",
    "        if len(Xing_dict[pl]) == 500:\n",
    "            R_combined[pl] = Xing_dict[pl][:]\n",
    "        else:\n",
    "            rest = 500 - len(Xing_dict[pl])\n",
    "            R_combined[pl] = Xing_dict[pl][:]\n",
    "            for t in QQ_dict[pl]:\n",
    "                if t not in R_combined[pl]:\n",
    "                    R_combined[pl].append(t)\n",
    "                    \n",
    "                if len(R_combined[pl]) == 500:\n",
    "                    break\n",
    "    return R_combined"
   ]
  },
  {
   "cell_type": "code",
   "execution_count": 208,
   "metadata": {
    "collapsed": true
   },
   "outputs": [],
   "source": [
    "Combined_R_method_1 = combine_method_1(QQ, Xing)"
   ]
  },
  {
   "cell_type": "code",
   "execution_count": 209,
   "metadata": {},
   "outputs": [
    {
     "name": "stdout",
     "output_type": "stream",
     "text": [
      "0.131532696672\n",
      "0.2652868259054635\n",
      "3.735\n"
     ]
    }
   ],
   "source": [
    "R_precision_1 = {}\n",
    "NDCG_1 = {}\n",
    "Clicks_1 = {}\n",
    "\n",
    "for pl in Xing:\n",
    "\n",
    "    R_precision_1[pl] = r_precision(GT[pl][bar:], Combined_R_method_1[pl])\n",
    "    NDCG_1[pl] = ndcg(GT[pl][bar:], Combined_R_method_1[pl])\n",
    "    Clicks_1[pl] = clicks(GT[pl][bar:], Combined_R_method_1[pl])\n",
    "    \n",
    "print sum(R_precision_1.values()) / len(R_precision_1)\n",
    "print sum(NDCG_1.values()) / len(NDCG_1)\n",
    "print sum(Clicks_1.values()) / len(Clicks_1)"
   ]
  },
  {
   "cell_type": "markdown",
   "metadata": {},
   "source": [
    "## Combine Method 2"
   ]
  },
  {
   "cell_type": "code",
   "execution_count": 210,
   "metadata": {},
   "outputs": [],
   "source": [
    "# Xing_low_freq = {}\n",
    "\n",
    "# for pl in Xing:\n",
    "#     weizhi = 0\n",
    "#     Xing_low_freq[pl] = {}\n",
    "#     for t in Xing[pl]:\n",
    "        \n",
    "#         if t not in Most_100_up_dict:\n",
    "#             Xing_low_freq[pl][weizhi] = t\n",
    "#             Xing[pl].remove(t)\n",
    "#         weizhi += 1"
   ]
  },
  {
   "cell_type": "code",
   "execution_count": 211,
   "metadata": {
    "collapsed": true
   },
   "outputs": [],
   "source": [
    "def rank(new, current, sort_base):\n",
    "    layer = list(set(new) - set(current))\n",
    "    layer_index = {}\n",
    "    for elem in layer:\n",
    "        layer_index[elem] = sort_base[elem]\n",
    "        \n",
    "    layer_sorted = sorted(layer_index.items(), key=operator.itemgetter(1))\n",
    "    layer_final = [i[0] for i in layer_sorted]\n",
    "    return current + layer_final\n",
    "\n",
    "def combine_method_2_sub_1(QQ, Xing, GT_len):\n",
    "    QQ_index = {}\n",
    "    for elem in QQ:\n",
    "        QQ_index[elem] = len(QQ_index)\n",
    "    \n",
    "    Xing_index = {}\n",
    "    for elem in Xing:\n",
    "        Xing_index[elem] = len(Xing_index)\n",
    "        \n",
    "        \n",
    "    Ax = set(Xing[:GT_len])\n",
    "    Bx = set(Xing[GT_len:])\n",
    "        \n",
    "    Aq = set(QQ[:GT_len])\n",
    "    Bq = set(QQ[GT_len:])\n",
    "    \n",
    "    # Layer 1\n",
    "    up_to_layer1 = rank(list(Ax & Aq), [], Xing_index)\n",
    "    \n",
    "    # Layer 2 part 1\n",
    "    up_to_layer2_1 = rank(list(Ax & Bq), up_to_layer1, Xing_index)\n",
    "\n",
    "    # Layer 2 part 2\n",
    "    up_to_layer2_2 = rank(list(Bx & Aq), up_to_layer2_1, Xing_index)\n",
    "    \n",
    "    # Layer 3 part 1\n",
    "    up_to_layer3_1 = rank(list(Ax), up_to_layer2_2, Xing_index)\n",
    "    \n",
    "    # Layer 3 part 2\n",
    "    up_to_layer3_2 = rank(list(Aq), up_to_layer3_1, QQ_index)\n",
    "    \n",
    "    # Layer 3 part 3\n",
    "    up_to_layer3_3 = rank(list(Bx & Bq), up_to_layer3_2, Xing_index)\n",
    "    \n",
    "    # Layer 4 part 1\n",
    "    up_to_layer4_1 = rank(list(Bx), up_to_layer3_3, Xing_index)\n",
    "    \n",
    "    # Layer 4 part 2\n",
    "    up_to_layer4_2 = rank(list(Bq), up_to_layer4_1, QQ_index)\n",
    "    \n",
    "    return up_to_layer4_2[:500]\n",
    "\n",
    "def combine_method_2_sub_2(QQ, Xing, GT_len):\n",
    "    QQ_index = {}\n",
    "    for elem in QQ:\n",
    "        QQ_index[elem] = len(QQ_index)\n",
    "    \n",
    "    Xing_index = {}\n",
    "    for elem in Xing:\n",
    "        Xing_index[elem] = len(Xing_index)\n",
    "        \n",
    "        \n",
    "    Ax = set(Xing[:GT_len])\n",
    "    Bx = set(Xing[GT_len:])\n",
    "        \n",
    "    Aq = set(QQ[:GT_len])\n",
    "    Bq = set(QQ[GT_len:])\n",
    "    \n",
    "    # Layer 1\n",
    "    up_to_layer1 = rank(list(Ax & Aq), [], Xing_index)\n",
    "    \n",
    "    # Layer 2 part 1\n",
    "    up_to_layer2_1 = rank(list(Ax & Bq), up_to_layer1, Xing_index)\n",
    "\n",
    "\n",
    "    # Layer 2 part 2\n",
    "    up_to_layer2_2 = rank(list(Ax), up_to_layer2_1, Xing_index)\n",
    "    \n",
    "    # Layer 3 part 1\n",
    "    up_to_layer3_1 = rank(list(Bx & Aq), up_to_layer2_2, Xing_index)\n",
    "    \n",
    "    # Layer 3 part 2\n",
    "    up_to_layer3_2 = rank(list(Aq), up_to_layer3_1, QQ_index)\n",
    "    \n",
    "    # Layer 3 part 3\n",
    "    up_to_layer3_3 = rank(list(Bx & Bq), up_to_layer3_2, Xing_index)\n",
    "    \n",
    "    # Layer 4 part 1\n",
    "    up_to_layer4_1 = rank(list(Bx), up_to_layer3_3, Xing_index)\n",
    "    \n",
    "    # Layer 4 part 2\n",
    "    up_to_layer4_2 = rank(list(Bq), up_to_layer4_1, QQ_index)\n",
    "    \n",
    "    return up_to_layer4_2[:500]\n",
    "\n",
    "def combine_method_2_sub_3(QQ, Xing, GT_len):\n",
    "    QQ_index = {}\n",
    "    for elem in QQ:\n",
    "        QQ_index[elem] = len(QQ_index)\n",
    "    \n",
    "    Xing_index = {}\n",
    "    for elem in Xing:\n",
    "        Xing_index[elem] = len(Xing_index)\n",
    "        \n",
    "        \n",
    "    Ax = set(Xing[:GT_len])\n",
    "    Bx = set(Xing[GT_len:])\n",
    "        \n",
    "    Aq = set(QQ[:GT_len])\n",
    "    Bq = set(QQ[GT_len:])\n",
    "    \n",
    "    # Layer 1\n",
    "    up_to_layer1 = rank(list(Ax & Aq), [], Xing_index)\n",
    "    \n",
    "\n",
    "    # Layer 2 part 2\n",
    "    up_to_layer2_1 = rank(list(Bx & Aq), up_to_layer1, Xing_index)\n",
    "    \n",
    "    # Layer 2 part 1\n",
    "    up_to_layer2_2 = rank(list(Ax & Bq), up_to_layer2_1, Xing_index)\n",
    "    \n",
    "    # Layer 3 part 1\n",
    "    up_to_layer3_1 = rank(list(Ax), up_to_layer2_2, Xing_index)\n",
    "    \n",
    "    # Layer 3 part 2\n",
    "    up_to_layer3_2 = rank(list(Aq), up_to_layer3_1, QQ_index)\n",
    "    \n",
    "    # Layer 3 part 3\n",
    "    up_to_layer3_3 = rank(list(Bx & Bq), up_to_layer3_2, Xing_index)\n",
    "    \n",
    "    # Layer 4 part 1\n",
    "    up_to_layer4_1 = rank(list(Bx), up_to_layer3_3, Xing_index)\n",
    "    \n",
    "    # Layer 4 part 2\n",
    "    up_to_layer4_2 = rank(list(Bq), up_to_layer4_1, QQ_index)\n",
    "    \n",
    "    return up_to_layer4_2[:500]\n",
    "\n",
    "def combine_method_2_sub_4(QQ, Xing, GT_len):\n",
    "    QQ_index = {}\n",
    "    for elem in QQ:\n",
    "        QQ_index[elem] = len(QQ_index) * 1.5\n",
    "    \n",
    "    Xing_index = {}\n",
    "    for elem in Xing:\n",
    "        if elem not in Most_100_up_dict:\n",
    "            \n",
    "            Xing_index[elem] = len(Xing_index) * 0.5 \n",
    "            \n",
    "        else:\n",
    "            Xing_index[elem] = len(Xing_index) * 1.0 \n",
    "        \n",
    "    final_index = {}\n",
    "    for elem in list(set(Xing_index.keys()) | set(QQ_index.keys())):\n",
    "        if elem in Xing and elem not in QQ:\n",
    "            final_index[elem] = Xing_index[elem]\n",
    "        elif elem in QQ and elem not in Xing:\n",
    "            final_index[elem] = QQ_index[elem]\n",
    "        else:\n",
    "            final_index[elem] = Xing_index[elem] + QQ_index[elem]\n",
    "        \n",
    "        \n",
    "    Ax = set(Xing[:GT_len])\n",
    "    Bx = set(Xing[GT_len:])\n",
    "        \n",
    "    Aq = set(QQ[:GT_len])\n",
    "    Bq = set(QQ[GT_len:])\n",
    "    \n",
    "    # Layer 1\n",
    "    up_to_layer1 = rank(list(Ax & Aq), [], final_index)\n",
    "    \n",
    "    # Layer 2 part 1\n",
    "    up_to_layer2_1 = rank(list(Ax & Bq), up_to_layer1, final_index)\n",
    "\n",
    "    # Layer 2 part 2\n",
    "    up_to_layer2_2 = rank(list(Bx & Aq), up_to_layer2_1, final_index)\n",
    "    \n",
    "    # Layer 3 part 1\n",
    "    up_to_layer3_1 = rank(list(Ax), up_to_layer2_2, final_index)\n",
    "    \n",
    "    # Layer 3 part 2\n",
    "    up_to_layer3_2 = rank(list(Aq), up_to_layer3_1, final_index)\n",
    "    \n",
    "    # Layer 3 part 3\n",
    "    up_to_layer3_3 = rank(list(Bx & Bq), up_to_layer3_2, final_index)\n",
    "    \n",
    "    # Layer 4 part 1\n",
    "    up_to_layer4_1 = rank(list(Bx), up_to_layer3_3, final_index)\n",
    "    \n",
    "    # Layer 4 part 2\n",
    "    up_to_layer4_2 = rank(list(Bq), up_to_layer4_1, final_index)\n",
    "    \n",
    "    return up_to_layer4_2[:500]\n",
    "\n",
    "def combine_method_2(QQ_dict, Xing_dict):\n",
    "    global GT\n",
    "    R_combined = {}\n",
    "    for pl in Xing_dict:\n",
    "        #yaoshandiaode = Xing_low_freq[pl].keys()\n",
    "        R_combined[pl] = combine_method_2_sub_4(QQ_dict[pl], Xing_dict[pl],len(GT[pl]) - bar)\n",
    "    return R_combined"
   ]
  },
  {
   "cell_type": "code",
   "execution_count": 212,
   "metadata": {},
   "outputs": [],
   "source": [
    "Combined_R_method_2 = combine_method_2(QQ, Xing)"
   ]
  },
  {
   "cell_type": "code",
   "execution_count": 213,
   "metadata": {
    "collapsed": true
   },
   "outputs": [],
   "source": [
    "# Combined_R_method_2_plus_lowfreq = {}\n",
    "# for pl in Combined_R_method_2:\n",
    "#     Combined_R_method_2_plus_lowfreq[pl] = []\n",
    "#     for i in range (0,500):\n",
    "#         if i in Xing_low_freq[pl]:\n",
    "#             Combined_R_method_2_plus_lowfreq[pl].append(Xing_low_freq[pl][i])\n",
    "#         else:\n",
    "            \n",
    "#             Combined_R_method_2_plus_lowfreq[pl].append(Combined_R_method_2[pl].pop(0))"
   ]
  },
  {
   "cell_type": "code",
   "execution_count": 214,
   "metadata": {},
   "outputs": [
    {
     "name": "stdout",
     "output_type": "stream",
     "text": [
      "0.127058412232\n",
      "0.25428761150477747\n",
      "3.756\n"
     ]
    }
   ],
   "source": [
    "R_precision_2 = {}\n",
    "NDCG_2 = {}\n",
    "Clicks_2 = {}\n",
    "\n",
    "for pl in Xing:\n",
    "    R_precision_2[pl] = r_precision(GT[pl][bar:], Combined_R_method_2[pl])\n",
    "    NDCG_2[pl] = ndcg(GT[pl][bar:], Combined_R_method_2[pl])\n",
    "    Clicks_2[pl] = clicks(GT[pl][bar:], Combined_R_method_2[pl])\n",
    "\n",
    "print sum(R_precision_2.values()) / len(R_precision_2)\n",
    "print sum(NDCG_2.values()) / len(NDCG_2)\n",
    "print sum(Clicks_2.values()) / len(Clicks_2)"
   ]
  },
  {
   "cell_type": "code",
   "execution_count": null,
   "metadata": {
    "collapsed": true
   },
   "outputs": [],
   "source": []
  },
  {
   "cell_type": "code",
   "execution_count": null,
   "metadata": {
    "collapsed": true
   },
   "outputs": [],
   "source": []
  },
  {
   "cell_type": "code",
   "execution_count": null,
   "metadata": {
    "collapsed": true
   },
   "outputs": [],
   "source": []
  }
 ],
 "metadata": {
  "kernelspec": {
   "display_name": "Python 2",
   "language": "python",
   "name": "python2"
  },
  "language_info": {
   "codemirror_mode": {
    "name": "ipython",
    "version": 2
   },
   "file_extension": ".py",
   "mimetype": "text/x-python",
   "name": "python",
   "nbconvert_exporter": "python",
   "pygments_lexer": "ipython2",
   "version": "2.7.12"
  }
 },
 "nbformat": 4,
 "nbformat_minor": 2
}

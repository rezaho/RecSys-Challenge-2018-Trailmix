{
 "cells": [
  {
   "cell_type": "code",
   "execution_count": 1,
   "metadata": {
    "collapsed": true
   },
   "outputs": [],
   "source": [
    "import json"
   ]
  },
  {
   "cell_type": "markdown",
   "metadata": {},
   "source": [
    "# Track index"
   ]
  },
  {
   "cell_type": "code",
   "execution_count": 6,
   "metadata": {
    "collapsed": true
   },
   "outputs": [],
   "source": [
    "pl_tracks = json.load(open('../PL_TRACKS_ALL.json'))"
   ]
  },
  {
   "cell_type": "code",
   "execution_count": 7,
   "metadata": {
    "collapsed": true
   },
   "outputs": [],
   "source": [
    "tracks = []\n",
    "for pl in pl_tracks:\n",
    "    for t in pl_tracks[pl]:\n",
    "        tracks.append(t)"
   ]
  },
  {
   "cell_type": "code",
   "execution_count": 8,
   "metadata": {
    "collapsed": true
   },
   "outputs": [],
   "source": [
    "tracks = list(set(tracks))"
   ]
  },
  {
   "cell_type": "code",
   "execution_count": 9,
   "metadata": {},
   "outputs": [
    {
     "data": {
      "text/plain": [
       "2262292"
      ]
     },
     "execution_count": 9,
     "metadata": {},
     "output_type": "execute_result"
    }
   ],
   "source": [
    "len(tracks)"
   ]
  },
  {
   "cell_type": "code",
   "execution_count": 10,
   "metadata": {
    "collapsed": true
   },
   "outputs": [],
   "source": [
    "track_index = {}\n",
    "for t in tracks:\n",
    "    track_index[t] = len(track_index)"
   ]
  },
  {
   "cell_type": "code",
   "execution_count": 12,
   "metadata": {
    "collapsed": true
   },
   "outputs": [],
   "source": [
    "with open('TRACK_INDEX_READONLY.json', 'w') as f:\n",
    "    json.dump(track_index, f)"
   ]
  },
  {
   "cell_type": "markdown",
   "metadata": {},
   "source": [
    "# Artist index"
   ]
  },
  {
   "cell_type": "code",
   "execution_count": 42,
   "metadata": {
    "collapsed": true
   },
   "outputs": [],
   "source": [
    "pl_artists = json.load(open('../PL_ARTIST_ALL.json'))"
   ]
  },
  {
   "cell_type": "code",
   "execution_count": 43,
   "metadata": {
    "collapsed": true
   },
   "outputs": [],
   "source": [
    "artists = []\n",
    "for pl in pl_artists:\n",
    "    for a in pl_artists[pl]:\n",
    "        artists.append(a)\n",
    "artists = list(set(artists))"
   ]
  },
  {
   "cell_type": "code",
   "execution_count": 44,
   "metadata": {},
   "outputs": [
    {
     "data": {
      "text/plain": [
       "295860"
      ]
     },
     "execution_count": 44,
     "metadata": {},
     "output_type": "execute_result"
    }
   ],
   "source": [
    "len(artists)"
   ]
  },
  {
   "cell_type": "code",
   "execution_count": 47,
   "metadata": {
    "collapsed": true
   },
   "outputs": [],
   "source": [
    "artist_index = {}\n",
    "for a in artists:\n",
    "    artist_index[a] = len(artist_index)"
   ]
  },
  {
   "cell_type": "code",
   "execution_count": 49,
   "metadata": {
    "collapsed": true
   },
   "outputs": [],
   "source": [
    "with open('ARTIST_INDEX_READONLY.json', 'w') as f:\n",
    "    json.dump(artist_index, f)"
   ]
  },
  {
   "cell_type": "markdown",
   "metadata": {},
   "source": [
    "# Album index"
   ]
  },
  {
   "cell_type": "code",
   "execution_count": 20,
   "metadata": {
    "collapsed": true
   },
   "outputs": [],
   "source": [
    "pl_albums = json.load(open('../PL_ALBUM_ALL.json'))"
   ]
  },
  {
   "cell_type": "code",
   "execution_count": 21,
   "metadata": {
    "collapsed": true
   },
   "outputs": [],
   "source": [
    "albums = []\n",
    "for pl in pl_albums:\n",
    "    for a in pl_albums[pl]:\n",
    "        albums.append(a)\n",
    "albums = list(set(albums))"
   ]
  },
  {
   "cell_type": "code",
   "execution_count": 22,
   "metadata": {
    "collapsed": true
   },
   "outputs": [],
   "source": [
    "album_index = {}\n",
    "for a in albums:\n",
    "    album_index[a] = len(album_index)"
   ]
  },
  {
   "cell_type": "code",
   "execution_count": 23,
   "metadata": {},
   "outputs": [
    {
     "data": {
      "text/plain": [
       "734684"
      ]
     },
     "execution_count": 23,
     "metadata": {},
     "output_type": "execute_result"
    }
   ],
   "source": [
    "len(album_index)"
   ]
  },
  {
   "cell_type": "code",
   "execution_count": 24,
   "metadata": {
    "collapsed": true
   },
   "outputs": [],
   "source": [
    "with open('ALBUM_INDEX_READONLY.json', 'w') as f:\n",
    "    json.dump(album_index, f)"
   ]
  },
  {
   "cell_type": "markdown",
   "metadata": {},
   "source": [
    "# PL_Train_5_Indexed & PL_Test_5_Indexed"
   ]
  },
  {
   "cell_type": "code",
   "execution_count": 2,
   "metadata": {
    "collapsed": true
   },
   "outputs": [],
   "source": [
    "track_index = json.load(open('TRACK_INDEX_READONLY.json'))\n",
    "artist_index = json.load(open('ARTIST_INDEX_READONLY.json'))\n",
    "album_index = json.load(open('ALBUM_INDEX_READONLY.json'))"
   ]
  },
  {
   "cell_type": "code",
   "execution_count": 29,
   "metadata": {
    "collapsed": true
   },
   "outputs": [],
   "source": [
    "train_raw = json.load(open('../PL_TRACKS_5_TRAIN.json'))\n",
    "train = {}\n",
    "for pl in train_raw:\n",
    "    train[pl] = []\n",
    "    for t in train_raw[pl]:\n",
    "        train[pl].append(track_index[t])\n",
    "\n",
    "del train_raw"
   ]
  },
  {
   "cell_type": "code",
   "execution_count": 30,
   "metadata": {
    "collapsed": true
   },
   "outputs": [],
   "source": [
    "with open('PL_TRACKS_5_TRAIN_INDEXED.json', 'w') as f:\n",
    "    json.dump(train, f)"
   ]
  },
  {
   "cell_type": "code",
   "execution_count": 55,
   "metadata": {
    "collapsed": true
   },
   "outputs": [],
   "source": [
    "train_artist = {}\n",
    "for pl in train:\n",
    "    train_artist[pl] = []\n",
    "    for t in train[pl]:\n",
    "        train_artist[pl].append(track_artist_album_indexed[t]['artist'])\n",
    "        \n",
    "train_album = {}\n",
    "for pl in train:\n",
    "    train_album[pl] = []\n",
    "    for t in train[pl]:\n",
    "        train_album[pl].append(track_artist_album_indexed[t]['album'])\n",
    "    "
   ]
  },
  {
   "cell_type": "code",
   "execution_count": 56,
   "metadata": {
    "collapsed": true
   },
   "outputs": [],
   "source": [
    "with open('PL_ARTISTS_5_TRAIN_INDEXED.json', 'w') as f:\n",
    "    json.dump(train_artist, f)\n",
    "    \n",
    "with open('PL_ALBUMS_5_TRAIN_INDEXED.json', 'w') as f:\n",
    "    json.dump(train_album, f)"
   ]
  },
  {
   "cell_type": "markdown",
   "metadata": {},
   "source": [
    "### Counter"
   ]
  },
  {
   "cell_type": "code",
   "execution_count": 4,
   "metadata": {
    "collapsed": true
   },
   "outputs": [],
   "source": [
    "from collections import Counter"
   ]
  },
  {
   "cell_type": "code",
   "execution_count": 3,
   "metadata": {
    "collapsed": true
   },
   "outputs": [],
   "source": [
    "pl_artist = json.load(open('PL_ARTISTS_5_TRAIN_INDEXED.json'))\n",
    "pl_album = json.load(open('PL_ALBUMS_5_TRAIN_INDEXED.json'))"
   ]
  },
  {
   "cell_type": "code",
   "execution_count": 13,
   "metadata": {
    "collapsed": true
   },
   "outputs": [],
   "source": [
    "pl_artist_counter = {}\n",
    "pl_album_counter = {}\n",
    "\n",
    "for pl in pl_artist:\n",
    "    pl_artist_counter[pl] = dict(Counter(pl_artist[pl]))\n",
    "    \n",
    "for pl in pl_album:\n",
    "    pl_album_counter[pl] = dict(Counter(pl_album[pl]))"
   ]
  },
  {
   "cell_type": "code",
   "execution_count": 14,
   "metadata": {
    "collapsed": true
   },
   "outputs": [],
   "source": [
    "with open('PL_ARTISTS_5_TRAIN_INDEXED_COUNTER.json', 'w') as f:\n",
    "    json.dump(pl_artist_counter, f)\n",
    "    \n",
    "with open('PL_ALBUMS_5_TRAIN_INDEXED_COUNTER.json', 'w') as f:\n",
    "    json.dump(pl_album_counter, f)"
   ]
  },
  {
   "cell_type": "code",
   "execution_count": 10,
   "metadata": {},
   "outputs": [
    {
     "data": {
      "text/plain": [
       "800000"
      ]
     },
     "execution_count": 10,
     "metadata": {},
     "output_type": "execute_result"
    }
   ],
   "source": []
  },
  {
   "cell_type": "markdown",
   "metadata": {
    "collapsed": true
   },
   "source": [
    "## Counter for all"
   ]
  },
  {
   "cell_type": "code",
   "execution_count": 3,
   "metadata": {
    "collapsed": true
   },
   "outputs": [],
   "source": [
    "from collections import Counter"
   ]
  },
  {
   "cell_type": "code",
   "execution_count": 4,
   "metadata": {
    "collapsed": true
   },
   "outputs": [],
   "source": [
    "pl_artist = json.load(open('PL_ARTISTS_ALL_INDEXED.json'))\n",
    "pl_album = json.load(open('PL_ALBUMS_ALL_INDEXED.json'))"
   ]
  },
  {
   "cell_type": "code",
   "execution_count": 5,
   "metadata": {
    "collapsed": true
   },
   "outputs": [],
   "source": [
    "pl_artist_counter = {}\n",
    "pl_album_counter = {}\n",
    "\n",
    "for pl in pl_artist:\n",
    "    pl_artist_counter[pl] = dict(Counter(pl_artist[pl]))\n",
    "    \n",
    "for pl in pl_album:\n",
    "    pl_album_counter[pl] = dict(Counter(pl_album[pl]))"
   ]
  },
  {
   "cell_type": "code",
   "execution_count": 6,
   "metadata": {
    "collapsed": true
   },
   "outputs": [],
   "source": [
    "with open('PL_ARTISTS_ALL_INDEXED_COUNTER.json', 'w') as f:\n",
    "    json.dump(pl_artist_counter, f)\n",
    "    \n",
    "with open('PL_ALBUMS_ALL_INDEXED_COUNTER.json', 'w') as f:\n",
    "    json.dump(pl_album_counter, f)"
   ]
  },
  {
   "cell_type": "markdown",
   "metadata": {
    "collapsed": true
   },
   "source": [
    "## For all 1M data"
   ]
  },
  {
   "cell_type": "code",
   "execution_count": 3,
   "metadata": {
    "collapsed": true
   },
   "outputs": [],
   "source": [
    "train_raw = json.load(open('../PL_TRACKS_ALL.json'))\n",
    "train = {}\n",
    "for pl in train_raw:\n",
    "    train[pl] = []\n",
    "    for t in train_raw[pl]:\n",
    "        train[pl].append(track_index[t])\n",
    "\n",
    "del train_raw"
   ]
  },
  {
   "cell_type": "code",
   "execution_count": 4,
   "metadata": {
    "collapsed": true
   },
   "outputs": [],
   "source": [
    "with open('PL_TRACKS_ALL_INDEXED.json', 'w') as f:\n",
    "    json.dump(train, f)"
   ]
  },
  {
   "cell_type": "code",
   "execution_count": 6,
   "metadata": {
    "collapsed": true
   },
   "outputs": [],
   "source": [
    "track_artist_album_indexed = json.load(open('TRACK_ARTIST_ALBUM_INDEXED.json'))"
   ]
  },
  {
   "cell_type": "code",
   "execution_count": 8,
   "metadata": {
    "collapsed": true
   },
   "outputs": [],
   "source": [
    "train_artist = {}\n",
    "for pl in train:\n",
    "    train_artist[pl] = []\n",
    "    for t in train[pl]:\n",
    "        train_artist[pl].append(track_artist_album_indexed[str(t)]['artist'])\n",
    "        \n",
    "train_album = {}\n",
    "for pl in train:\n",
    "    train_album[pl] = []\n",
    "    for t in train[pl]:\n",
    "        train_album[pl].append(track_artist_album_indexed[str(t)]['album'])"
   ]
  },
  {
   "cell_type": "code",
   "execution_count": 9,
   "metadata": {
    "collapsed": true
   },
   "outputs": [],
   "source": [
    "with open('PL_ARTISTS_ALL_INDEXED.json', 'w') as f:\n",
    "    json.dump(train_artist, f)\n",
    "    \n",
    "with open('PL_ALBUMS_ALL_INDEXED.json', 'w') as f:\n",
    "    json.dump(train_album, f)"
   ]
  },
  {
   "cell_type": "code",
   "execution_count": null,
   "metadata": {
    "collapsed": true
   },
   "outputs": [],
   "source": []
  },
  {
   "cell_type": "code",
   "execution_count": null,
   "metadata": {
    "collapsed": true
   },
   "outputs": [],
   "source": []
  },
  {
   "cell_type": "code",
   "execution_count": 31,
   "metadata": {
    "collapsed": true
   },
   "outputs": [],
   "source": [
    "test_raw = json.load(open('../PL_TRACKS_5_TEST.json'))\n",
    "test = {}\n",
    "for pl in test_raw:\n",
    "    test[pl] = []\n",
    "    for t in test_raw[pl]:\n",
    "        test[pl].append(track_index[t])\n",
    "\n",
    "del test_raw"
   ]
  },
  {
   "cell_type": "code",
   "execution_count": 32,
   "metadata": {
    "collapsed": true
   },
   "outputs": [],
   "source": [
    "with open('PL_TRACKS_5_TEST_INDEXED.json', 'w') as f:\n",
    "    json.dump(test, f)"
   ]
  },
  {
   "cell_type": "markdown",
   "metadata": {},
   "source": [
    "# Track_artist_album indexed"
   ]
  },
  {
   "cell_type": "code",
   "execution_count": 33,
   "metadata": {
    "collapsed": true
   },
   "outputs": [],
   "source": [
    "track_artist_album = json.load(open('../TRACK_ARTIST_ALBUM_READONLY.json'))"
   ]
  },
  {
   "cell_type": "code",
   "execution_count": 51,
   "metadata": {
    "collapsed": true
   },
   "outputs": [],
   "source": [
    "track_artist_album_indexed = {}\n",
    "for t in track_artist_album:\n",
    "    track_artist_album_indexed[track_index[t]] = {'artist': artist_index[track_artist_album[t]['artist']],\\\n",
    "                                                 'album': album_index[track_artist_album[t]['album']]}"
   ]
  },
  {
   "cell_type": "code",
   "execution_count": 54,
   "metadata": {
    "collapsed": true
   },
   "outputs": [],
   "source": [
    "with open('TRACK_ARTIST_ALBUM_INDEXED.json', 'w') as f:\n",
    "    json.dump(track_artist_album_indexed, f)"
   ]
  },
  {
   "cell_type": "markdown",
   "metadata": {
    "collapsed": true
   },
   "source": [
    "# PL_TRACK_ALL_5_Indexed"
   ]
  },
  {
   "cell_type": "code",
   "execution_count": 2,
   "metadata": {
    "collapsed": true
   },
   "outputs": [],
   "source": [
    "ALL_5 = json.load(open('../PL_TRACKS_ALL_5.json'))"
   ]
  },
  {
   "cell_type": "code",
   "execution_count": 10,
   "metadata": {
    "collapsed": true
   },
   "outputs": [],
   "source": [
    "track_index = json.load(open('TRACK_INDEX_READONLY.json'))"
   ]
  },
  {
   "cell_type": "code",
   "execution_count": 12,
   "metadata": {},
   "outputs": [],
   "source": [
    "ALL_5_Indexed = {}\n",
    "for pl in ALL_5:\n",
    "    ALL_5_Indexed[pl] = []\n",
    "    for t in ALL_5[pl]:\n",
    "        ALL_5_Indexed[pl].append(track_index[t])"
   ]
  },
  {
   "cell_type": "code",
   "execution_count": 13,
   "metadata": {
    "collapsed": true
   },
   "outputs": [],
   "source": [
    "with open('PL_TRACKS_ALL_5_INDEXED.json', 'w') as f:\n",
    "    json.dump(ALL_5_Indexed, f)"
   ]
  },
  {
   "cell_type": "code",
   "execution_count": null,
   "metadata": {
    "collapsed": true
   },
   "outputs": [],
   "source": []
  }
 ],
 "metadata": {
  "kernelspec": {
   "display_name": "Python 2",
   "language": "python",
   "name": "python2"
  },
  "language_info": {
   "codemirror_mode": {
    "name": "ipython",
    "version": 2
   },
   "file_extension": ".py",
   "mimetype": "text/x-python",
   "name": "python",
   "nbconvert_exporter": "python",
   "pygments_lexer": "ipython2",
   "version": "2.7.12"
  }
 },
 "nbformat": 4,
 "nbformat_minor": 2
}
